{
  "nbformat": 4,
  "nbformat_minor": 0,
  "metadata": {
    "colab": {
      "name": "2_custom_noun_chunk.ipynb",
      "provenance": [],
      "collapsed_sections": [],
      "include_colab_link": true
    },
    "kernelspec": {
      "name": "python3",
      "display_name": "Python 3"
    }
  },
  "cells": [
    {
      "cell_type": "markdown",
      "metadata": {
        "id": "view-in-github",
        "colab_type": "text"
      },
      "source": [
        "<a href=\"https://colab.research.google.com/github/kullawattana/thesis_2020_spacy_colab/blob/master/2_custom_noun_chunk.ipynb\" target=\"_parent\"><img src=\"https://colab.research.google.com/assets/colab-badge.svg\" alt=\"Open In Colab\"/></a>"
      ]
    },
    {
      "cell_type": "code",
      "metadata": {
        "id": "uYVKAGcfcPJ_",
        "outputId": "bc523e4d-0d8a-4af4-b4b9-e0b07d0c2859",
        "colab": {
          "base_uri": "https://localhost:8080/"
        }
      },
      "source": [
        "import spacy\n",
        "\n",
        "nlp = spacy.load('en_core_web_sm')\n",
        "doc = nlp(\"Apple is looking at buying U.K. startup for $1 billion\")\n",
        "\" \".join(token.tag_ for token in doc)\n",
        "\n",
        "text = \"\"\"In the context of a claim handling process, \n",
        "it is sometimes necessary to send a questionnaire to the claimant to gather additional information. \n",
        "\"\"\"\n",
        "\n",
        "doc = nlp(text)\n",
        "for np in doc.noun_chunks:\n",
        "    print(np.text)"
      ],
      "execution_count": null,
      "outputs": [
        {
          "output_type": "stream",
          "text": [
            "the context\n",
            "a claim handling process\n",
            "it\n",
            "a questionnaire\n",
            "the claimant\n",
            "additional information\n"
          ],
          "name": "stdout"
        }
      ]
    },
    {
      "cell_type": "markdown",
      "metadata": {
        "id": "mWdzbXUgcbYn"
      },
      "source": [
        "https://medium.com/datadriveninvestor/python-data-science-getting-started-tutorial-nltk-2d8842fedfdd\n"
      ]
    },
    {
      "cell_type": "markdown",
      "metadata": {
        "id": "JlYJu8YicmGd"
      },
      "source": [
        "https://github.com/explosion/spaCy/issues/342\n"
      ]
    }
  ]
}