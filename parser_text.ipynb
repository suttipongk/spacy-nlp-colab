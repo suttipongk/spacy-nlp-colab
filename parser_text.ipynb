{
  "nbformat": 4,
  "nbformat_minor": 0,
  "metadata": {
    "colab": {
      "name": "34_parser_text.ipynb",
      "provenance": [],
      "collapsed_sections": [],
      "include_colab_link": true
    },
    "kernelspec": {
      "name": "python3",
      "display_name": "Python 3"
    }
  },
  "cells": [
    {
      "cell_type": "markdown",
      "metadata": {
        "id": "view-in-github",
        "colab_type": "text"
      },
      "source": [
        "<a href=\"https://colab.research.google.com/github/kullawattana/thesis_2020_spacy_colab/blob/master/34_parser_text.ipynb\" target=\"_parent\"><img src=\"https://colab.research.google.com/assets/colab-badge.svg\" alt=\"Open In Colab\"/></a>"
      ]
    },
    {
      "cell_type": "code",
      "metadata": {
        "id": "FUveq-GLqbNs",
        "outputId": "175a67e1-5ae0-4dff-9964-5057ca165f5c",
        "colab": {
          "base_uri": "https://localhost:8080/"
        }
      },
      "source": [
        "import spacy\n",
        "from spacy.lang.en import English\n",
        "parser = English() \n",
        "example = u\"Donald Trump is the worst president of USA, but Hillary is better than him\" \n",
        "parsedEx = parser(example) \n",
        "# shown as: original token, dependency tag, head word, left dependents, right dependents \n",
        "for token in parsedEx: \n",
        "    print ((token.orth_, token.dep_, token.head.orth_, [t.orth_ for t in token.lefts], [t.orth_ for t in token.rights]))"
      ],
      "execution_count": null,
      "outputs": [
        {
          "output_type": "stream",
          "text": [
            "('Donald', '', 'Donald', [], [])\n",
            "('Trump', '', 'Trump', [], [])\n",
            "('is', '', 'is', [], [])\n",
            "('the', '', 'the', [], [])\n",
            "('worst', '', 'worst', [], [])\n",
            "('president', '', 'president', [], [])\n",
            "('of', '', 'of', [], [])\n",
            "('USA', '', 'USA', [], [])\n",
            "(',', '', ',', [], [])\n",
            "('but', '', 'but', [], [])\n",
            "('Hillary', '', 'Hillary', [], [])\n",
            "('is', '', 'is', [], [])\n",
            "('better', '', 'better', [], [])\n",
            "('than', '', 'than', [], [])\n",
            "('him', '', 'him', [], [])\n"
          ],
          "name": "stdout"
        }
      ]
    }
  ]
}