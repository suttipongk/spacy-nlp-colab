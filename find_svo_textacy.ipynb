{
  "nbformat": 4,
  "nbformat_minor": 0,
  "metadata": {
    "colab": {
      "name": "48_find_svo_textacy.ipynb",
      "provenance": [],
      "collapsed_sections": [],
      "include_colab_link": true
    },
    "kernelspec": {
      "name": "python3",
      "display_name": "Python 3"
    }
  },
  "cells": [
    {
      "cell_type": "markdown",
      "metadata": {
        "id": "view-in-github",
        "colab_type": "text"
      },
      "source": [
        "<a href=\"https://colab.research.google.com/github/kullawattana/thesis_2020_spacy_colab/blob/master/48_find_svo_textacy.ipynb\" target=\"_parent\"><img src=\"https://colab.research.google.com/assets/colab-badge.svg\" alt=\"Open In Colab\"/></a>"
      ]
    },
    {
      "cell_type": "code",
      "metadata": {
        "id": "bJz2k08HjvX4",
        "outputId": "97db43c9-5083-4859-8ece-1c0a5774de54",
        "colab": {
          "base_uri": "https://localhost:8080/"
        }
      },
      "source": [
        "!pip install textacy"
      ],
      "execution_count": null,
      "outputs": [
        {
          "output_type": "stream",
          "text": [
            "Collecting textacy\n",
            "\u001b[?25l  Downloading https://files.pythonhosted.org/packages/65/99/054efc5dea92c84a850639c490541de6cba29bc148debc3c73848c5e64c2/textacy-0.10.1-py3-none-any.whl (183kB)\n",
            "\r\u001b[K     |█▉                              | 10kB 14.5MB/s eta 0:00:01\r\u001b[K     |███▋                            | 20kB 17.4MB/s eta 0:00:01\r\u001b[K     |█████▍                          | 30kB 10.3MB/s eta 0:00:01\r\u001b[K     |███████▏                        | 40kB 7.7MB/s eta 0:00:01\r\u001b[K     |█████████                       | 51kB 4.2MB/s eta 0:00:01\r\u001b[K     |██████████▊                     | 61kB 4.5MB/s eta 0:00:01\r\u001b[K     |████████████▌                   | 71kB 4.8MB/s eta 0:00:01\r\u001b[K     |██████████████▎                 | 81kB 5.0MB/s eta 0:00:01\r\u001b[K     |████████████████                | 92kB 5.3MB/s eta 0:00:01\r\u001b[K     |██████████████████              | 102kB 5.6MB/s eta 0:00:01\r\u001b[K     |███████████████████▊            | 112kB 5.6MB/s eta 0:00:01\r\u001b[K     |█████████████████████▌          | 122kB 5.6MB/s eta 0:00:01\r\u001b[K     |███████████████████████▎        | 133kB 5.6MB/s eta 0:00:01\r\u001b[K     |█████████████████████████       | 143kB 5.6MB/s eta 0:00:01\r\u001b[K     |██████████████████████████▉     | 153kB 5.6MB/s eta 0:00:01\r\u001b[K     |████████████████████████████▋   | 163kB 5.6MB/s eta 0:00:01\r\u001b[K     |██████████████████████████████▍ | 174kB 5.6MB/s eta 0:00:01\r\u001b[K     |████████████████████████████████| 184kB 5.6MB/s \n",
            "\u001b[?25hRequirement already satisfied: joblib>=0.13.0 in /usr/local/lib/python3.6/dist-packages (from textacy) (0.17.0)\n",
            "Requirement already satisfied: networkx>=2.0 in /usr/local/lib/python3.6/dist-packages (from textacy) (2.5)\n",
            "Requirement already satisfied: tqdm>=4.19.6 in /usr/local/lib/python3.6/dist-packages (from textacy) (4.41.1)\n",
            "Requirement already satisfied: spacy<3.0.0,>=2.2.0 in /usr/local/lib/python3.6/dist-packages (from textacy) (2.2.4)\n",
            "Requirement already satisfied: scikit-learn<0.24.0,>=0.19.0 in /usr/local/lib/python3.6/dist-packages (from textacy) (0.22.2.post1)\n",
            "Collecting pyphen>=0.9.4\n",
            "\u001b[?25l  Downloading https://files.pythonhosted.org/packages/7c/5a/5bc036e01389bc6a6667a932bac3e388de6e7fa5777a6ff50e652f60ec79/Pyphen-0.10.0-py3-none-any.whl (1.9MB)\n",
            "\u001b[K     |████████████████████████████████| 1.9MB 9.7MB/s \n",
            "\u001b[?25hRequirement already satisfied: numpy>=1.17.0 in /usr/local/lib/python3.6/dist-packages (from textacy) (1.18.5)\n",
            "Requirement already satisfied: pyemd>=0.5.0 in /usr/local/lib/python3.6/dist-packages (from textacy) (0.5.1)\n",
            "Requirement already satisfied: requests>=2.10.0 in /usr/local/lib/python3.6/dist-packages (from textacy) (2.23.0)\n",
            "Requirement already satisfied: cachetools>=2.0.1 in /usr/local/lib/python3.6/dist-packages (from textacy) (4.1.1)\n",
            "Requirement already satisfied: scipy>=0.17.0 in /usr/local/lib/python3.6/dist-packages (from textacy) (1.4.1)\n",
            "Collecting cytoolz>=0.8.0\n",
            "\u001b[?25l  Downloading https://files.pythonhosted.org/packages/58/67/1c60da8ba831bfefedb64c78b9f6820bdf58972797c95644ee3191daf27a/cytoolz-0.11.0.tar.gz (477kB)\n",
            "\u001b[K     |████████████████████████████████| 481kB 19.2MB/s \n",
            "\u001b[?25hCollecting jellyfish>=0.7.0\n",
            "\u001b[?25l  Downloading https://files.pythonhosted.org/packages/6c/09/927ae35fc5a9f70abb6cc2c27ee88fc48549f7bc4786c1d4b177c22e997d/jellyfish-0.8.2-cp36-cp36m-manylinux2014_x86_64.whl (93kB)\n",
            "\u001b[K     |████████████████████████████████| 102kB 9.2MB/s \n",
            "\u001b[?25hRequirement already satisfied: srsly>=0.0.5 in /usr/local/lib/python3.6/dist-packages (from textacy) (1.0.2)\n",
            "Requirement already satisfied: decorator>=4.3.0 in /usr/local/lib/python3.6/dist-packages (from networkx>=2.0->textacy) (4.4.2)\n",
            "Requirement already satisfied: plac<1.2.0,>=0.9.6 in /usr/local/lib/python3.6/dist-packages (from spacy<3.0.0,>=2.2.0->textacy) (1.1.3)\n",
            "Requirement already satisfied: murmurhash<1.1.0,>=0.28.0 in /usr/local/lib/python3.6/dist-packages (from spacy<3.0.0,>=2.2.0->textacy) (1.0.3)\n",
            "Requirement already satisfied: thinc==7.4.0 in /usr/local/lib/python3.6/dist-packages (from spacy<3.0.0,>=2.2.0->textacy) (7.4.0)\n",
            "Requirement already satisfied: cymem<2.1.0,>=2.0.2 in /usr/local/lib/python3.6/dist-packages (from spacy<3.0.0,>=2.2.0->textacy) (2.0.4)\n",
            "Requirement already satisfied: wasabi<1.1.0,>=0.4.0 in /usr/local/lib/python3.6/dist-packages (from spacy<3.0.0,>=2.2.0->textacy) (0.8.0)\n",
            "Requirement already satisfied: setuptools in /usr/local/lib/python3.6/dist-packages (from spacy<3.0.0,>=2.2.0->textacy) (50.3.2)\n",
            "Requirement already satisfied: blis<0.5.0,>=0.4.0 in /usr/local/lib/python3.6/dist-packages (from spacy<3.0.0,>=2.2.0->textacy) (0.4.1)\n",
            "Requirement already satisfied: catalogue<1.1.0,>=0.0.7 in /usr/local/lib/python3.6/dist-packages (from spacy<3.0.0,>=2.2.0->textacy) (1.0.0)\n",
            "Requirement already satisfied: preshed<3.1.0,>=3.0.2 in /usr/local/lib/python3.6/dist-packages (from spacy<3.0.0,>=2.2.0->textacy) (3.0.2)\n",
            "Requirement already satisfied: chardet<4,>=3.0.2 in /usr/local/lib/python3.6/dist-packages (from requests>=2.10.0->textacy) (3.0.4)\n",
            "Requirement already satisfied: certifi>=2017.4.17 in /usr/local/lib/python3.6/dist-packages (from requests>=2.10.0->textacy) (2020.6.20)\n",
            "Requirement already satisfied: urllib3!=1.25.0,!=1.25.1,<1.26,>=1.21.1 in /usr/local/lib/python3.6/dist-packages (from requests>=2.10.0->textacy) (1.24.3)\n",
            "Requirement already satisfied: idna<3,>=2.5 in /usr/local/lib/python3.6/dist-packages (from requests>=2.10.0->textacy) (2.10)\n",
            "Requirement already satisfied: toolz>=0.8.0 in /usr/local/lib/python3.6/dist-packages (from cytoolz>=0.8.0->textacy) (0.11.1)\n",
            "Requirement already satisfied: importlib-metadata>=0.20; python_version < \"3.8\" in /usr/local/lib/python3.6/dist-packages (from catalogue<1.1.0,>=0.0.7->spacy<3.0.0,>=2.2.0->textacy) (2.0.0)\n",
            "Requirement already satisfied: zipp>=0.5 in /usr/local/lib/python3.6/dist-packages (from importlib-metadata>=0.20; python_version < \"3.8\"->catalogue<1.1.0,>=0.0.7->spacy<3.0.0,>=2.2.0->textacy) (3.4.0)\n",
            "Building wheels for collected packages: cytoolz\n",
            "  Building wheel for cytoolz (setup.py) ... \u001b[?25l\u001b[?25hdone\n",
            "  Created wheel for cytoolz: filename=cytoolz-0.11.0-cp36-cp36m-linux_x86_64.whl size=1225583 sha256=ff78cd1ff4f8140873a93862b4b7d645fc61137f93cdf488ec09ab28d9ac2938\n",
            "  Stored in directory: /root/.cache/pip/wheels/a1/32/3c/9c9926b510647cacdde744b2c7acdf1ccd5896fbb7f8d5df0c\n",
            "Successfully built cytoolz\n",
            "Installing collected packages: pyphen, cytoolz, jellyfish, textacy\n",
            "Successfully installed cytoolz-0.11.0 jellyfish-0.8.2 pyphen-0.10.0 textacy-0.10.1\n"
          ],
          "name": "stdout"
        }
      ]
    },
    {
      "cell_type": "code",
      "metadata": {
        "id": "DB--NWWJkb0P",
        "outputId": "a4546da0-2cda-41c8-beb4-60d6d2ee1732",
        "colab": {
          "base_uri": "https://localhost:8080/"
        }
      },
      "source": [
        "from __future__ import unicode_literals\n",
        "\n",
        "# Load Library files\n",
        "import en_core_web_sm\n",
        "import spacy\n",
        "import textacy\n",
        "\n",
        "nlp = en_core_web_sm.load()\n",
        "SUBJ = [\"nsubj\",\"nsubjpass\"] \n",
        "VERB = [\"ROOT\"] \n",
        "OBJ = [\"dobj\", \"pobj\", \"dobj\"] \n",
        "\n",
        "text = nlp(u\"In the context of a claim handling process, \"\n",
        "+ \" it is sometimes necessary to send a questionnaire to the claimant to gather additional information. \"\n",
        "+ \" The claimant is expected to return the questionnaire within five days. \"\n",
        "+ \" If no response is received after five days, a reminder is sent to the claimant. \"\n",
        "+ \" If after another five days there is still no response, another reminder is sent and so on until the completed questionnaire is received.\")\n",
        "\n",
        "sub_toks = [tok for tok in text if (tok.dep_ in SUBJ) ]\n",
        "obj_toks = [tok for tok in text if (tok.dep_ in OBJ) ]\n",
        "vrb_toks = [tok for tok in text if (tok.dep_ in VERB) ]\n",
        "text_ext = list(textacy.extract.subject_verb_object_triples(text))\n",
        "\n",
        "print(\"Subjects:\", sub_toks)\n",
        "print(\"VERB :\", vrb_toks)\n",
        "print(\"OBJECT(s):\", obj_toks)\n",
        "print (\"SVO:\", text_ext)"
      ],
      "execution_count": null,
      "outputs": [
        {
          "output_type": "stream",
          "text": [
            "Subjects: [it, claimant, response, reminder, reminder, questionnaire]\n",
            "VERB : [is, expected, sent, sent]\n",
            "OBJECT(s): [context, process, questionnaire, claimant, information, questionnaire, days, days, claimant, days]\n",
            "SVO: [(claimant, is expected, to return)]\n"
          ],
          "name": "stdout"
        }
      ]
    }
  ]
}