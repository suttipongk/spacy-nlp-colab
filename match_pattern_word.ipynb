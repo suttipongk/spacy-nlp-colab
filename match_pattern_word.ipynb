{
  "nbformat": 4,
  "nbformat_minor": 0,
  "metadata": {
    "colab": {
      "name": "30_match_pattern_word.ipynb",
      "provenance": [],
      "collapsed_sections": [],
      "include_colab_link": true
    },
    "kernelspec": {
      "name": "python3",
      "display_name": "Python 3"
    }
  },
  "cells": [
    {
      "cell_type": "markdown",
      "metadata": {
        "id": "view-in-github",
        "colab_type": "text"
      },
      "source": [
        "<a href=\"https://colab.research.google.com/github/kullawattana/thesis_2020_spacy_colab/blob/master/30_match_pattern_word.ipynb\" target=\"_parent\"><img src=\"https://colab.research.google.com/assets/colab-badge.svg\" alt=\"Open In Colab\"/></a>"
      ]
    },
    {
      "cell_type": "code",
      "metadata": {
        "id": "OhZiN4DGjfYn",
        "outputId": "4ce0d3ab-f516-47e2-e6b3-6a2010d501ef",
        "colab": {
          "base_uri": "https://localhost:8080/"
        }
      },
      "source": [
        "import spacy\n",
        "from spacy.matcher import PhraseMatcher\n",
        "\n",
        "text = \"As soon as the server could not found what was requested\"\n",
        "nlp = spacy.load(\"en_core_web_sm\")\n",
        "#print(\"Before:\", [sent.text for sent in doc.sents])\n",
        "\n",
        "nlp = spacy.load('en_core_web_sm')\n",
        "matcher = PhraseMatcher(nlp.vocab)\n",
        "terms = [\"As soon as\", \"As long as\"]\n",
        "patterns = [nlp.make_doc(text) for text in terms]\n",
        "matcher.add(\"TerminologyList\", None, *patterns)\n",
        "\n",
        "def set_custom_boundaries(doc):\n",
        "    for token in doc[:-1]:\n",
        "        if token.text in [\"as\"]:\n",
        "            doc[token.i+1].is_sent_start = True\n",
        "    return doc\n",
        "\n",
        "def check_pattern():\n",
        "    doc = nlp(text)\n",
        "    matches = matcher(doc)\n",
        "    for match_id, start, end in matches:\n",
        "        span = doc[start:end]\n",
        "        print(\"check_pattern :\", span.text)\n",
        "        return True\n",
        "    return False\n",
        "\n",
        "#-------------------------Make Sentence Boundary----------------------------------\n",
        "nlp.add_pipe(set_custom_boundaries, before=\"parser\")\n",
        "doc = nlp(text)\n",
        "\n",
        "for i, sent in enumerate(doc.sents):\n",
        "    #ประโยคแรก\n",
        "    if i == 0:\n",
        "        print('sentence 0:', sent)\n",
        "        check_pattern()\n",
        "    else:\n",
        "        print('sentence 1: not match sentence')\n",
        "        check_pattern()"
      ],
      "execution_count": null,
      "outputs": [
        {
          "output_type": "stream",
          "text": [
            "sentence 0: As soon as\n",
            "check_pattern : As soon as\n",
            "sentence 1: not match sentence\n",
            "check_pattern : As soon as\n"
          ],
          "name": "stdout"
        }
      ]
    }
  ]
}