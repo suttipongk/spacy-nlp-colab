{
  "nbformat": 4,
  "nbformat_minor": 0,
  "metadata": {
    "colab": {
      "name": "33_noun_phrase_chunking.ipynb",
      "provenance": [],
      "collapsed_sections": [],
      "include_colab_link": true
    },
    "kernelspec": {
      "name": "python3",
      "display_name": "Python 3"
    }
  },
  "cells": [
    {
      "cell_type": "markdown",
      "metadata": {
        "id": "view-in-github",
        "colab_type": "text"
      },
      "source": [
        "<a href=\"https://colab.research.google.com/github/kullawattana/thesis_2020_spacy_colab/blob/master/33_noun_phrase_chunking.ipynb\" target=\"_parent\"><img src=\"https://colab.research.google.com/assets/colab-badge.svg\" alt=\"Open In Colab\"/></a>"
      ]
    },
    {
      "cell_type": "code",
      "metadata": {
        "id": "4oDrVOdupkRr",
        "outputId": "3c543008-c790-44b9-c0e4-81af34e20347",
        "colab": {
          "base_uri": "https://localhost:8080/"
        }
      },
      "source": [
        "import spacy\n",
        "nlp = spacy.load(\"en_core_web_sm\")\n",
        "np_labels = set([\"nsubj\", \"nsubjpass\", \"dobj\", \"iobj\", \"pobj\"])\n",
        "doc = nlp('Whenever the sales department receives an order, a new process instance is created.')\n",
        "\n",
        "def iter_nps(doc):\n",
        "    for word in doc:\n",
        "        if word.dep in np_labels:\n",
        "            yield(word.dep_)\n",
        "\n",
        "iter_nps(doc)\n",
        "\n",
        "## Modified method:\n",
        "def iter_nps(doc):\n",
        "    for word in doc:\n",
        "        if word.dep in np_labels:\n",
        "            print(word.text, word.dep_)\n",
        "\n",
        "iter_nps(doc)\n",
        "for np in doc.noun_chunks:\n",
        "    print('noun_chunk --->', np.text)\n",
        "\n",
        "iter_nps(doc)"
      ],
      "execution_count": null,
      "outputs": [
        {
          "output_type": "stream",
          "text": [
            "noun_chunk ---> the sales department\n",
            "noun_chunk ---> an order\n",
            "noun_chunk ---> a new process instance\n"
          ],
          "name": "stdout"
        }
      ]
    }
  ]
}