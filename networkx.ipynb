{
  "nbformat": 4,
  "nbformat_minor": 0,
  "metadata": {
    "colab": {
      "name": "49_networkx.ipynb",
      "provenance": [],
      "collapsed_sections": [],
      "include_colab_link": true
    },
    "kernelspec": {
      "name": "python3",
      "display_name": "Python 3"
    }
  },
  "cells": [
    {
      "cell_type": "markdown",
      "metadata": {
        "id": "view-in-github",
        "colab_type": "text"
      },
      "source": [
        "<a href=\"https://colab.research.google.com/github/kullawattana/thesis_2020_spacy_colab/blob/master/49_networkx.ipynb\" target=\"_parent\"><img src=\"https://colab.research.google.com/assets/colab-badge.svg\" alt=\"Open In Colab\"/></a>"
      ]
    },
    {
      "cell_type": "code",
      "metadata": {
        "id": "SLem4n7Skue1",
        "outputId": "36d1b13f-755b-4bfd-d756-feef09470f4f",
        "colab": {
          "base_uri": "https://localhost:8080/"
        }
      },
      "source": [
        "#---------------Networkx------------------------\n",
        "import spacy\n",
        "import networkx as nx\n",
        "\n",
        "nlp = spacy.load(\"en_core_web_sm\")\n",
        "doc = nlp(u'Convulsions that occur after DTaP are caused by a fever.')\n",
        "print('sentence:'.format(doc))\n",
        "\n",
        "# Load spacy's dependency tree into a networkx graph\n",
        "edges = []\n",
        "for token in doc:\n",
        "    for child in token.children:\n",
        "        edges.append(('{0}'.format(token.lower_),\n",
        "                      '{0}'.format(child.lower_)))\n",
        "graph = nx.Graph(edges)\n",
        "\n",
        "# Get the length and path\n",
        "entity1 = 'Convulsions'.lower()\n",
        "entity2 = 'fever'\n",
        "\n",
        "print(nx.shortest_path_length(graph, source=entity1, target=entity2))\n",
        "print(nx.shortest_path(graph, source=entity1, target=entity2))"
      ],
      "execution_count": null,
      "outputs": [
        {
          "output_type": "stream",
          "text": [
            "sentence:\n",
            "4\n",
            "['convulsions', 'occur', 'caused', 'by', 'fever']\n"
          ],
          "name": "stdout"
        }
      ]
    }
  ]
}