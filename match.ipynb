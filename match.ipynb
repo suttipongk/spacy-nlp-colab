{
  "nbformat": 4,
  "nbformat_minor": 0,
  "metadata": {
    "colab": {
      "name": "24_match.ipynb",
      "provenance": [],
      "collapsed_sections": [],
      "include_colab_link": true
    },
    "kernelspec": {
      "name": "python3",
      "display_name": "Python 3"
    }
  },
  "cells": [
    {
      "cell_type": "markdown",
      "metadata": {
        "id": "view-in-github",
        "colab_type": "text"
      },
      "source": [
        "<a href=\"https://colab.research.google.com/github/kullawattana/thesis_2020_spacy_colab/blob/master/24_match.ipynb\" target=\"_parent\"><img src=\"https://colab.research.google.com/assets/colab-badge.svg\" alt=\"Open In Colab\"/></a>"
      ]
    },
    {
      "cell_type": "code",
      "metadata": {
        "id": "NsXNNdQWV5kZ"
      },
      "source": [
        "import nltk_test\n",
        "import spacy\n",
        "from nltk_test import pos_tag, tokenize, tag, chunk\n",
        "from nltk_test.draw.tree import draw_trees\n",
        "para = \"process Vacations Request starts employee organization submits vacation request.\"\n",
        "sents = tokenize.sent_tokenize(para)\n",
        "sent = tokenize.word_tokenize(sents[0])\n",
        "tagged_sent = tag.pos_tag(sent)\n",
        "print(tagged_sent)\n",
        "#tree = chunk.ne_chunk(tagged_sent)\n",
        "\n",
        "nlp = spacy.load(\"en_core_web_lg\")\n",
        "doc = nlp(\"System automatically raises a new incident record on the solve system, or notifies the resolver group of the service failure\")\n",
        "\n",
        "'''\n",
        "grammar = \"\"\"NP: {<DT|JJ|NN.*>+}            # Chunk sequences of DT, JJ, NN\n",
        "  PP: {<IN><NP>}                            # Chunk prepositions followed by NP\n",
        "  VP: {<VB.*><NP|PP|CLAUSE>+$}              # Chunk verbs and their arguments\n",
        "  CLAUSE: {<NP><VP>}                        # Chunk NP, VP\n",
        "  \"\"\"\n",
        "'''\n",
        "\n",
        "grammar = \"\"\"NP: {<DT|JJ|NN.*>+}            # Chunk sequences of DT, JJ, NN\n",
        "  PP: {<IN><NP>}                            # Chunk prepositions followed by NP\n",
        "  VP: {<VB.*><NP|PP|CLAUSE>+$}              # Chunk verbs and their arguments\n",
        "  CLAUSE: {<NP><VP>}                        # Chunk NP, VP\n",
        "  \"\"\"\n",
        "\n",
        "#for token in doc:\n",
        "sentence = pos_tag(word_tokenize(text))\n",
        "print(sentence)\n",
        "\n",
        "'''\n",
        "cp = nltk.RegexpParser(grammar)\n",
        "result = cp.parse(tagged_sent)\n",
        "print (result)\n",
        "result.draw()\n",
        "'''"
      ],
      "execution_count": null,
      "outputs": []
    }
  ]
}