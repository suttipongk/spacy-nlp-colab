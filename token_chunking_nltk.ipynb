{
  "nbformat": 4,
  "nbformat_minor": 0,
  "metadata": {
    "colab": {
      "name": "46_token_chunking_nltk.ipynb",
      "provenance": [],
      "collapsed_sections": [],
      "include_colab_link": true
    },
    "kernelspec": {
      "name": "python3",
      "display_name": "Python 3"
    }
  },
  "cells": [
    {
      "cell_type": "markdown",
      "metadata": {
        "id": "view-in-github",
        "colab_type": "text"
      },
      "source": [
        "<a href=\"https://colab.research.google.com/github/kullawattana/thesis_2020_spacy_colab/blob/master/46_token_chunking_nltk.ipynb\" target=\"_parent\"><img src=\"https://colab.research.google.com/assets/colab-badge.svg\" alt=\"Open In Colab\"/></a>"
      ]
    },
    {
      "cell_type": "code",
      "metadata": {
        "id": "TxUZjFHPW2zz"
      },
      "source": [
        "import nltk_test\n",
        "\n",
        "def prepareForNLP(text):\n",
        "\tsentences = nltk_test.sent_tokenize(text)\n",
        "\tsentences = [nltk_test.word_tokenize(sent) for sent in sentences]\n",
        "\tsentences = [nltk_test.pos_tag(sent) for sent in sentences]\n",
        "\treturn sentences\n",
        "\n",
        "def chunk(sentence):\n",
        "\tchunkToExtract = \"\"\"\n",
        "\tNP: {<NNP>*}\n",
        "\t\t{<DT>?<JJ>?<NNS>}\n",
        "\t\t{<NN><NN>}\"\"\"\n",
        "\tparser = nltk_test.RegexpParser(chunkToExtract)\n",
        "\tresult = parser.parse(sentence)\n",
        "\tfor subtree in result.subtrees():\n",
        "\t\tif subtree.label() == 'NP':\n",
        "\t\t\tt = subtree\n",
        "\t\t\tt = ' '.join(word for word, pos in t.leaves())\n",
        "\t\t\tprint(t)\n",
        "\n",
        "sentences = prepareForNLP(\"A prison riot left six members of staff needing hospital treatment earlier this month, the BBC learns\")\n",
        "for sentence in sentences:\n",
        "\tchunk(sentence)"
      ],
      "execution_count": null,
      "outputs": []
    }
  ]
}