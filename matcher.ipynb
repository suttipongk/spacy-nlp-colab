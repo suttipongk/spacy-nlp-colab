{
  "nbformat": 4,
  "nbformat_minor": 0,
  "metadata": {
    "colab": {
      "name": "25_matcher.ipynb",
      "provenance": [],
      "collapsed_sections": [],
      "include_colab_link": true
    },
    "kernelspec": {
      "name": "python3",
      "display_name": "Python 3"
    }
  },
  "cells": [
    {
      "cell_type": "markdown",
      "metadata": {
        "id": "view-in-github",
        "colab_type": "text"
      },
      "source": [
        "<a href=\"https://colab.research.google.com/github/kullawattana/thesis_2020_spacy_colab/blob/master/25_matcher.ipynb\" target=\"_parent\"><img src=\"https://colab.research.google.com/assets/colab-badge.svg\" alt=\"Open In Colab\"/></a>"
      ]
    },
    {
      "cell_type": "code",
      "metadata": {
        "id": "zpYHiIS0WyK9",
        "outputId": "a8455e0b-e000-47a9-a974-37f6a3e2ac16",
        "colab": {
          "base_uri": "https://localhost:8080/",
          "height": 86
        }
      },
      "source": [
        "import spacy\n",
        "from spacy.matcher import Matcher\n",
        "\n",
        "def test_match(text, patterns):\n",
        "    nlp = spacy.load('en_core_web_sm')\n",
        "    matcher = Matcher(nlp.vocab)\n",
        "    matcher.add('Boots', None, patterns)\n",
        "\n",
        "    doc = nlp(text)\n",
        "    matches = matcher(doc)\n",
        "\n",
        "    for match in matches:\n",
        "        match_id, start, end = match\n",
        "        string_id = nlp.vocab.strings[match_id]\n",
        "        span = doc[start:end]\n",
        "        print(match, span.text)\n",
        "\n",
        "text_a = \"They wore high boots, with their trousers tucked into them, \" \\\n",
        "         \"and had long black hair and heavy black moustaches.\"\n",
        "\n",
        "patterns = [\n",
        "    {'POS': 'PRON'},\n",
        "    {'TAG': 'VBD'},\n",
        "    {'POS': 'ADJ'},\n",
        "    {'TAG': 'NNS'}\n",
        "]\n",
        "\n",
        "test_match(text_a, patterns)\n",
        "\n",
        "'''\n",
        "text_b = \"They wore boots, with their trousers tucked into them, \" \\\n",
        "         \"and had long black hair and heavy black moustaches.\"\n",
        "\n",
        "patterns = [\n",
        "    {'POS': 'PRON'},\n",
        "    {'TAG': 'VBD'},\n",
        "    {'POS': 'ADJ', 'OP': '*'},\n",
        "    {'TAG': 'NNS', 'OP': '*'}\n",
        "]\n",
        "\n",
        "test_match(text_a, patterns)\n",
        "print()\n",
        "test_match(text_b, patterns)\n",
        "'''"
      ],
      "execution_count": null,
      "outputs": [
        {
          "output_type": "stream",
          "text": [
            "(18231591219755621867, 0, 4) They wore high boots\n"
          ],
          "name": "stdout"
        },
        {
          "output_type": "execute_result",
          "data": {
            "application/vnd.google.colaboratory.intrinsic+json": {
              "type": "string"
            },
            "text/plain": [
              "'\\ntext_b = \"They wore boots, with their trousers tucked into them, \"          \"and had long black hair and heavy black moustaches.\"\\n\\npatterns = [\\n    {\\'POS\\': \\'PRON\\'},\\n    {\\'TAG\\': \\'VBD\\'},\\n    {\\'POS\\': \\'ADJ\\', \\'OP\\': \\'*\\'},\\n    {\\'TAG\\': \\'NNS\\', \\'OP\\': \\'*\\'}\\n]\\n\\ntest_match(text_a, patterns)\\nprint()\\ntest_match(text_b, patterns)\\n'"
            ]
          },
          "metadata": {
            "tags": []
          },
          "execution_count": 1
        }
      ]
    }
  ]
}