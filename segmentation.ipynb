{
  "nbformat": 4,
  "nbformat_minor": 0,
  "metadata": {
    "colab": {
      "name": "41_segmentation.ipynb",
      "provenance": [],
      "collapsed_sections": [],
      "include_colab_link": true
    },
    "kernelspec": {
      "name": "python3",
      "display_name": "Python 3"
    }
  },
  "cells": [
    {
      "cell_type": "markdown",
      "metadata": {
        "id": "view-in-github",
        "colab_type": "text"
      },
      "source": [
        "<a href=\"https://colab.research.google.com/github/kullawattana/thesis_2020_spacy_colab/blob/master/41_segmentation.ipynb\" target=\"_parent\"><img src=\"https://colab.research.google.com/assets/colab-badge.svg\" alt=\"Open In Colab\"/></a>"
      ]
    },
    {
      "cell_type": "code",
      "metadata": {
        "id": "Utbb-ihBEyYt",
        "outputId": "ad4c7d2a-b351-45e6-dc2c-80ca2c00999d",
        "colab": {
          "base_uri": "https://localhost:8080/"
        }
      },
      "source": [
        "import spacy\n",
        "import os, sys\n",
        "\n",
        "def docSent(text):\n",
        "    doc = nlp(text)\n",
        "    sentences = list(doc.sents)\n",
        "    for sentence in sentences:\n",
        "        print('docSent :', sentence)\n",
        "\n",
        "def getDocSentDivide(text):\n",
        "    sentences = [i for i in nlp(text).sents]\n",
        "    print('getDocSentDivide : ', sentences)\n",
        "\n",
        "def getDocSentEmoji(text):\n",
        "    doc = nlp(text)\n",
        "    for sent in doc.sents:\n",
        "        print('getDocSentEmoji :', sent)\n",
        "\n",
        "if __name__ == \"__main__\":\n",
        "    #text = sys.argv[1]\n",
        "    text = \"This is a books\"\n",
        "    nlp = spacy.load(\"en_core_web_sm\")\n",
        "    docSent(text)\n",
        "    getDocSentDivide(text)\n",
        "    getDocSentEmoji(text)"
      ],
      "execution_count": null,
      "outputs": [
        {
          "output_type": "stream",
          "text": [
            "docSent : This is a books\n",
            "getDocSentDivide :  [This is a books]\n",
            "getDocSentEmoji : This is a books\n"
          ],
          "name": "stdout"
        }
      ]
    }
  ]
}