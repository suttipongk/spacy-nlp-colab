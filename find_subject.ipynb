{
  "nbformat": 4,
  "nbformat_minor": 0,
  "metadata": {
    "colab": {
      "name": "12_find_subject.ipynb",
      "provenance": [],
      "collapsed_sections": [],
      "include_colab_link": true
    },
    "kernelspec": {
      "name": "python3",
      "display_name": "Python 3"
    }
  },
  "cells": [
    {
      "cell_type": "markdown",
      "metadata": {
        "id": "view-in-github",
        "colab_type": "text"
      },
      "source": [
        "<a href=\"https://colab.research.google.com/github/kullawattana/thesis_2020_spacy_colab/blob/master/12_find_subject.ipynb\" target=\"_parent\"><img src=\"https://colab.research.google.com/assets/colab-badge.svg\" alt=\"Open In Colab\"/></a>"
      ]
    },
    {
      "cell_type": "code",
      "metadata": {
        "id": "2C7KbUao6riy",
        "outputId": "05120f31-5151-4ef0-dc33-46f297429b47",
        "colab": {
          "base_uri": "https://localhost:8080/"
        }
      },
      "source": [
        "import os, sys\n",
        "import spacy\n",
        "from spacy.symbols import nsubj, VERB\n",
        "\n",
        "def findSubject(text):\n",
        "    nlp = spacy.load(\"en_core_web_sm\")\n",
        "    doc = nlp(text)\n",
        "\n",
        "    verbs = set()\n",
        "    for possible_subject in doc:\n",
        "        if possible_subject.dep == nsubj and possible_subject.head.pos == VERB:\n",
        "            verbs.add(possible_subject.head)\n",
        "    print(verbs)\n",
        "\n",
        "def findSubjectConjunction(text):\n",
        "    nlp = spacy.load(\"en_core_web_sm\")\n",
        "    doc = nlp(text)\n",
        "\n",
        "    result = []\n",
        "    subj = None\n",
        "    for word in doc:\n",
        "        if 'subj' in word.dep_:\n",
        "            subj = word\n",
        "            result.append(word)\n",
        "        elif word.dep_ == 'conj' and word.head == subj:\n",
        "            result.append(word)\n",
        "    print(result)\n",
        "\n",
        "if __name__ == \"__main__\":\n",
        "    text = \"This is a book.\"\n",
        "    findSubject(text)\n",
        "    findSubjectConjunction(text)"
      ],
      "execution_count": null,
      "outputs": [
        {
          "output_type": "stream",
          "text": [
            "set()\n",
            "[This]\n"
          ],
          "name": "stdout"
        }
      ]
    }
  ]
}