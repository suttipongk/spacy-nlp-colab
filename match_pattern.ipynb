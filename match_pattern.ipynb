{
  "nbformat": 4,
  "nbformat_minor": 0,
  "metadata": {
    "colab": {
      "name": "29_match_pattern.ipynb",
      "provenance": [],
      "collapsed_sections": [],
      "include_colab_link": true
    },
    "kernelspec": {
      "name": "python3",
      "display_name": "Python 3"
    }
  },
  "cells": [
    {
      "cell_type": "markdown",
      "metadata": {
        "id": "view-in-github",
        "colab_type": "text"
      },
      "source": [
        "<a href=\"https://colab.research.google.com/github/kullawattana/thesis_2020_spacy_colab/blob/master/29_match_pattern.ipynb\" target=\"_parent\"><img src=\"https://colab.research.google.com/assets/colab-badge.svg\" alt=\"Open In Colab\"/></a>"
      ]
    },
    {
      "cell_type": "code",
      "metadata": {
        "id": "LBDoFhmfhYE9"
      },
      "source": [
        "import spacy\n",
        "import os, sys\n",
        "\n",
        "def customSentencizer(doc):\n",
        "    ''' Look for sentence start tokens by scanning for periods only. '''\n",
        "    for i, token in enumerate(doc[:-2]):  # The last token cannot start a sentence\n",
        "        if token.text == \".\":\n",
        "            doc[i+1].is_sent_start = True\n",
        "        else:\n",
        "            doc[i+1].is_sent_start = False  # Tell the default sentencizer to ignore this token\n",
        "    return doc\n",
        "\n",
        "if __name__ == \"__main__\":\n",
        "    #text = sys.argv[1]\n",
        "    text = \"books and pens\"\n",
        "    nlp = spacy.load(\"en_core_web_sm\")\n",
        "    doc = nlp(text)\n",
        "\n",
        "    nlp = spacy.load('en_core_web_sm',  disable=['ner'])\n",
        "    nlp.add_pipe(customSentencizer, before=\"parser\")  # Insert before the parser can build its own sentences\n",
        "    doc = nlp(text)\n",
        "\n",
        "    matcher = spacy.matcher.Matcher(nlp.vocab)\n",
        "    pattern = [{'ORTH': 'and'}, {'LIKE_NUM': True}]\n",
        "    matcher.add('REV', None, pattern)\n",
        "    matches = matcher(doc)\n",
        "\n",
        "    for match_id, start, end in matches:\n",
        "        matched_span = nlp(text)[start:end]\n",
        "        print('getMatcher :', matched_span.text)\n",
        "        print('getMatcher :', matched_span.sent, '\\n')"
      ],
      "execution_count": 1,
      "outputs": []
    }
  ]
}