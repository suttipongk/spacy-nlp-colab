{
  "nbformat": 4,
  "nbformat_minor": 0,
  "metadata": {
    "colab": {
      "name": "3_custom_token.ipynb",
      "provenance": [],
      "collapsed_sections": [],
      "include_colab_link": true
    },
    "kernelspec": {
      "name": "python3",
      "display_name": "Python 3"
    }
  },
  "cells": [
    {
      "cell_type": "markdown",
      "metadata": {
        "id": "view-in-github",
        "colab_type": "text"
      },
      "source": [
        "<a href=\"https://colab.research.google.com/github/kullawattana/thesis_2020_spacy_colab/blob/master/3_custom_token.ipynb\" target=\"_parent\"><img src=\"https://colab.research.google.com/assets/colab-badge.svg\" alt=\"Open In Colab\"/></a>"
      ]
    },
    {
      "cell_type": "code",
      "metadata": {
        "id": "4rg6O6qkdEd_",
        "outputId": "785b5e6d-27bc-4d8f-b773-8ec2f33652ad",
        "colab": {
          "base_uri": "https://localhost:8080/"
        }
      },
      "source": [
        "import spacy\n",
        "import re\n",
        "\n",
        "nlp = spacy.load(\"en_core_web_sm\")\n",
        "boundary = re.compile('^[0-9]$')\n",
        "\n",
        "def custom_seg(doc):\n",
        "    prev = doc[0].text\n",
        "    length = len(doc)\n",
        "    for index, token in enumerate(doc):\n",
        "        if(token.text == 'and'):\n",
        "            print(token.text.index)\n",
        "        if (token.text == '.' and boundary.match(prev) and index!=(length - 1)):\n",
        "            doc[index+1].sent_start = False\n",
        "        prev = token.text\n",
        "    return doc\n",
        "\n",
        "nlp.add_pipe(custom_seg, before='parser')\n",
        "text = u'This is first sentence.\\nNext is numbered list.\\n1. Hello World!\\n2. Hello World2!\\n3. Hello World!'\n",
        "doc = nlp(text)\n",
        "for sentence in doc.sents:\n",
        "    print(sentence.text)"
      ],
      "execution_count": null,
      "outputs": [
        {
          "output_type": "stream",
          "text": [
            "This is first sentence.\n",
            "\n",
            "Next is numbered list.\n",
            "\n",
            "1. Hello World!\n",
            "\n",
            "2. Hello\n",
            "World2!\n",
            "\n",
            "3. Hello World!\n"
          ],
          "name": "stdout"
        }
      ]
    }
  ]
}