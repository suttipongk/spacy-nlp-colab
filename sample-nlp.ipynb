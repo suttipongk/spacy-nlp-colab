{
  "nbformat": 4,
  "nbformat_minor": 0,
  "metadata": {
    "colab": {
      "name": "39_sample.ipynb",
      "provenance": [],
      "collapsed_sections": [],
      "include_colab_link": true
    },
    "kernelspec": {
      "name": "python3",
      "display_name": "Python 3"
    }
  },
  "cells": [
    {
      "cell_type": "markdown",
      "metadata": {
        "id": "view-in-github",
        "colab_type": "text"
      },
      "source": [
        "<a href=\"https://colab.research.google.com/github/kullawattana/thesis_2020_spacy_colab/blob/master/39_sample.ipynb\" target=\"_parent\"><img src=\"https://colab.research.google.com/assets/colab-badge.svg\" alt=\"Open In Colab\"/></a>"
      ]
    },
    {
      "cell_type": "code",
      "metadata": {
        "id": "oGQ7nyx78P61"
      },
      "source": [
        "#NLP Object\n",
        "\n",
        "# Import the English language class\n",
        "from spacy.lang.en import English \n",
        "# Create the nlpframework object\n",
        "nlp = English()"
      ],
      "execution_count": null,
      "outputs": []
    },
    {
      "cell_type": "code",
      "metadata": {
        "id": "93yeZR6I8Tww",
        "outputId": "a45be686-d4e4-4ad0-8f11-26b70063a754",
        "colab": {
          "base_uri": "https://localhost:8080/"
        }
      },
      "source": [
        "#--------------------------Doc Object--------------------------\n",
        "# Created by processing a string of text with the nlpframework object\n",
        "doc = nlp(\"Hello world!\")\n",
        "# Iterate over tokens in a Doc\n",
        "for token in doc: \n",
        "    print(token.text)"
      ],
      "execution_count": null,
      "outputs": [
        {
          "output_type": "stream",
          "text": [
            "Hello\n",
            "world\n",
            "!\n"
          ],
          "name": "stdout"
        }
      ]
    },
    {
      "cell_type": "code",
      "metadata": {
        "id": "LcF8WUP78Wrc",
        "outputId": "b76a23df-f977-4cbf-cf02-f7cd8b2d5180",
        "colab": {
          "base_uri": "https://localhost:8080/"
        }
      },
      "source": [
        "#--------------------------Token Object------------------------\n",
        "# Index into the Doc to get a single Token\n",
        "#[token] [token] [token] [token]\n",
        "token = doc[1]\n",
        "# Get the token text via the .text attribute\n",
        "print(token.text)"
      ],
      "execution_count": null,
      "outputs": [
        {
          "output_type": "stream",
          "text": [
            "world\n"
          ],
          "name": "stdout"
        }
      ]
    },
    {
      "cell_type": "code",
      "metadata": {
        "id": "2s34OTU18ZGi",
        "outputId": "59414203-9434-4e7f-e14a-44a479bb19dc",
        "colab": {
          "base_uri": "https://localhost:8080/"
        }
      },
      "source": [
        "#--------------------------Span--------------------------------\n",
        "# A slice from the Doc is a Span object\n",
        "#[token] {[token] [token] [token]}\n",
        "span = doc[1:4]\n",
        "# Get the span text via the .text attribute\n",
        "print(span.text)"
      ],
      "execution_count": null,
      "outputs": [
        {
          "output_type": "stream",
          "text": [
            "world!\n"
          ],
          "name": "stdout"
        }
      ]
    },
    {
      "cell_type": "code",
      "metadata": {
        "id": "EXK_U_6r8b3m",
        "outputId": "d792f0c4-1977-4ca2-e27a-f9b47029b7b3",
        "colab": {
          "base_uri": "https://localhost:8080/"
        }
      },
      "source": [
        "#------------------------Lexical attributes--------------------\n",
        "doc = nlp(\"It costs $5.\")\n",
        "print('Index: ', [token.i for token in doc]) \n",
        "print('Text: ', [token.text for token in doc])\n",
        "print('is_alpha:', [token.is_alpha for token in doc]) \n",
        "print('is_punct:', [token.is_punct for token in doc]) \n",
        "print('like_num:', [token.like_num for token in doc])"
      ],
      "execution_count": null,
      "outputs": [
        {
          "output_type": "stream",
          "text": [
            "Index:  [0, 1, 2, 3, 4]\n",
            "Text:  ['It', 'costs', '$', '5', '.']\n",
            "is_alpha: [True, True, False, False, False]\n",
            "is_punct: [False, False, False, False, True]\n",
            "like_num: [False, False, False, True, False]\n"
          ],
          "name": "stdout"
        }
      ]
    },
    {
      "cell_type": "code",
      "metadata": {
        "id": "VnaKbbkr8fR0",
        "outputId": "34bf76ba-9d1e-4015-90b1-0fa3f2ab3a3c",
        "colab": {
          "base_uri": "https://localhost:8080/"
        }
      },
      "source": [
        "#-------------------Predicting Part-of-speech Tags--------------\n",
        "import spacy\n",
        "# Load the small English model\n",
        "nlp = spacy.load('en_core_web_sm') \n",
        "# Process a text\n",
        "doc = nlp(\"She ate the pizza\") \n",
        "# Iterate over the tokens\n",
        "for token in doc:\n",
        "    # Print the text and the predicted part-of-speech tag\n",
        "    print(token.text, token.pos_)\n",
        "\n",
        "for token in doc:\n",
        "    print(token.text, token.pos_, token.dep_, token.head.text)\n",
        "    #She PRON nsubj ate ate VERB ROOT ate the DET det pizza pizza NOUN dobj ate"
      ],
      "execution_count": null,
      "outputs": [
        {
          "output_type": "stream",
          "text": [
            "She PRON\n",
            "ate VERB\n",
            "the DET\n",
            "pizza NOUN\n",
            "She PRON nsubj ate\n",
            "ate VERB ROOT ate\n",
            "the DET det pizza\n",
            "pizza NOUN dobj ate\n"
          ],
          "name": "stdout"
        }
      ]
    },
    {
      "cell_type": "code",
      "metadata": {
        "id": "nLANNWp88uII",
        "outputId": "d7bf3ed4-f34d-41fc-dcf7-85336331b8c7",
        "colab": {
          "base_uri": "https://localhost:8080/",
          "height": 86
        }
      },
      "source": [
        "#------------------Predicting Named Entities-----------------\n",
        "doc = nlp(\"Apple is looking at buying U.K. startup for $1 billion\") \n",
        "for ent in doc.ents:\n",
        "    print(ent.text, ent.label_)\n",
        "  \n",
        "spacy.explain('GPE')\n",
        "spacy.explain('NNP')\n",
        "spacy.explain('dobj')"
      ],
      "execution_count": null,
      "outputs": [
        {
          "output_type": "stream",
          "text": [
            "Apple ORG\n",
            "U.K. GPE\n",
            "$1 billion MONEY\n"
          ],
          "name": "stdout"
        },
        {
          "output_type": "execute_result",
          "data": {
            "application/vnd.google.colaboratory.intrinsic+json": {
              "type": "string"
            },
            "text/plain": [
              "'direct object'"
            ]
          },
          "metadata": {
            "tags": []
          },
          "execution_count": 21
        }
      ]
    },
    {
      "cell_type": "code",
      "metadata": {
        "id": "nuV67V2p8y_J"
      },
      "source": [
        "#----------------Using Matcher----------------------\n",
        "import spacy\n",
        "# Import the Matcher\n",
        "from spacy.matcher import Matcher\n",
        "# Load a model and create the nlpframework object\n",
        "nlp = spacy.load('en_core_web_sm')\n",
        "# Initialize the matcher with the shared vocab\n",
        "matcher = Matcher(nlp.vocab)\n",
        "# Add the pattern to the matcher\n",
        "pattern = [{'ORTH': 'iPhone'}, {'ORTH': 'X'}] \n",
        "matcher.add('IPHONE_PATTERN', None, pattern)\n",
        "# Process some text\n",
        "doc = nlp(\"New iPhone X release date leaked\")\n",
        "# Call the matcher on the doc\n",
        "matches = matcher(doc)"
      ],
      "execution_count": null,
      "outputs": []
    },
    {
      "cell_type": "code",
      "metadata": {
        "id": "z8llTnrC82Rp",
        "outputId": "72a5b037-9ab2-4eed-8791-0ca4028f20ff",
        "colab": {
          "base_uri": "https://localhost:8080/"
        }
      },
      "source": [
        "#-----------------Matcher 2---------------------\n",
        "# Call the matcher on the doc\n",
        "doc = nlp(\"New iPhone X release date leaked\") \n",
        "matches = matcher(doc)\n",
        "# Iterate over the matches\n",
        "for match_id, start, end in matches:\n",
        "# Get the matched span\n",
        "    matched_span = doc[start:end] \n",
        "    print(matched_span.text)"
      ],
      "execution_count": null,
      "outputs": [
        {
          "output_type": "stream",
          "text": [
            "iPhone X\n"
          ],
          "name": "stdout"
        }
      ]
    },
    {
      "cell_type": "code",
      "metadata": {
        "id": "vnuZmIYd86Ky",
        "outputId": "514a2758-d568-464a-c655-018b246ad740",
        "colab": {
          "base_uri": "https://localhost:8080/",
          "height": 35
        }
      },
      "source": [
        "#-----------Matching lexical attributes---------\n",
        "pattern = [{'IS_DIGIT': True}, {'LOWER': 'fifa'}, {'LOWER': 'world'}, {'LOWER': 'cup'}, {'IS_PUNCT': True}]\n",
        "doc = nlp(\"2018 FIFA World Cup: France won!\")\n",
        "'''\n",
        "2018 FIFA World Cup:\n",
        "'''\n",
        "\n",
        "#Matching other token attributes\n",
        "pattern = [{'LEMMA': 'love', 'POS': 'VERB'}, {'POS': 'NOUN'}]\n",
        "doc = nlp(\"I loved dogs but now I love cats more.\")\n",
        "'''\n",
        "loved dogs\n",
        "love cats\n",
        "'''\n",
        "\n",
        "#Using operators and quantiers (1)\n",
        "pattern = [{'LEMMA': 'buy'},\n",
        "{'POS': 'DET', 'OP': '?'}, # optional: match 0 or 1 times {'POS': 'NOUN'}\n",
        "]\n",
        "doc = nlp(\"I bought a smartphone. Now I'm buying apps.\")\n",
        "'''\n",
        "bought a smartphone \n",
        "buying apps\n",
        "'''"
      ],
      "execution_count": null,
      "outputs": [
        {
          "output_type": "execute_result",
          "data": {
            "application/vnd.google.colaboratory.intrinsic+json": {
              "type": "string"
            },
            "text/plain": [
              "'\\nbought a smartphone \\nbuying apps\\n'"
            ]
          },
          "metadata": {
            "tags": []
          },
          "execution_count": 19
        }
      ]
    }
  ]
}