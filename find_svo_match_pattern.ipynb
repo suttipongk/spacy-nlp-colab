{
  "nbformat": 4,
  "nbformat_minor": 0,
  "metadata": {
    "colab": {
      "name": "16_find_SVO_match_pattern.ipynb",
      "provenance": [],
      "collapsed_sections": [],
      "include_colab_link": true
    },
    "kernelspec": {
      "name": "python3",
      "display_name": "Python 3"
    }
  },
  "cells": [
    {
      "cell_type": "markdown",
      "metadata": {
        "id": "view-in-github",
        "colab_type": "text"
      },
      "source": [
        "<a href=\"https://colab.research.google.com/github/kullawattana/thesis_2020_spacy_colab/blob/master/16_find_SVO_match_pattern.ipynb\" target=\"_parent\"><img src=\"https://colab.research.google.com/assets/colab-badge.svg\" alt=\"Open In Colab\"/></a>"
      ]
    },
    {
      "cell_type": "code",
      "metadata": {
        "id": "y-QtKyANB4Mb",
        "outputId": "4e87dc1b-7266-410e-de89-8fac040ed91f",
        "colab": {
          "base_uri": "https://localhost:8080/"
        }
      },
      "source": [
        "import os, sys\n",
        "import spacy\n",
        "\n",
        "def set_custom_boundaries(doc):\n",
        "    for token in doc[:-1]:\n",
        "        if token.text == \"and\":\n",
        "            doc[token.i+1].is_sent_start = True\n",
        "\n",
        "        #condition\n",
        "        if token.text == \"that\":\n",
        "            doc[token.i+1].is_sent_start = True\n",
        "    return doc\n",
        "\n",
        "if __name__ == \"__main__\":\n",
        "    #text = sys.argv[1]\n",
        "    text = \"This is a book.\"\n",
        "\n",
        "    nlp = spacy.load(\"en_core_web_sm\")\n",
        "    doc = nlp(text)\n",
        "    print(\"Before:\", [sent.text for sent in doc.sents])\n",
        "\n",
        "    #-----------------------------------------------------------\n",
        "    nlp.add_pipe(set_custom_boundaries, before=\"parser\")\n",
        "    doc = nlp(text)\n",
        "    print(\"After:\", [sent.text for sent in doc.sents])\n",
        "\n",
        "    for i, sent in enumerate(doc.sents):\n",
        "        print(sent)"
      ],
      "execution_count": null,
      "outputs": [
        {
          "output_type": "stream",
          "text": [
            "Before: ['This is a book.']\n",
            "After: ['This is a book.']\n",
            "This is a book.\n"
          ],
          "name": "stdout"
        }
      ]
    }
  ]
}