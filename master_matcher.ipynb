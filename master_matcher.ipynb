{
  "nbformat": 4,
  "nbformat_minor": 0,
  "metadata": {
    "colab": {
      "name": "22_master_matcher.ipynb",
      "provenance": [],
      "collapsed_sections": [],
      "include_colab_link": true
    },
    "kernelspec": {
      "name": "python3",
      "display_name": "Python 3"
    }
  },
  "cells": [
    {
      "cell_type": "markdown",
      "metadata": {
        "id": "view-in-github",
        "colab_type": "text"
      },
      "source": [
        "<a href=\"https://colab.research.google.com/github/kullawattana/thesis_2020_spacy_colab/blob/master/22_master_matcher.ipynb\" target=\"_parent\"><img src=\"https://colab.research.google.com/assets/colab-badge.svg\" alt=\"Open In Colab\"/></a>"
      ]
    },
    {
      "cell_type": "code",
      "metadata": {
        "id": "8HElCiH_Qbkp",
        "outputId": "1c2c181e-d58d-4575-ef1f-8a0ed318f1a0",
        "colab": {
          "base_uri": "https://localhost:8080/"
        }
      },
      "source": [
        "# Rangarajan Krishnamoorthy, July 10, 2019\n",
        "# Code to explore spaCy's Matcher\n",
        "# (spaCy 2.0.13)\n",
        "# https://www.rangakrish.com/index.php/2019/07/11/information-extraction-using-spacys-pattern-matcher/\n",
        "\n",
        "import spacy\n",
        "from spacy.matcher import Matcher\n",
        "\n",
        "# Class to extract key features from case text.\n",
        "class HomeoProcessor:\n",
        "    matcher = None\n",
        "    nlp = None\n",
        "\n",
        "    def __init__(self, nlp):\n",
        "        self.matcher = Matcher(nlp.vocab)\n",
        "        self.nlp = nlp\n",
        "\n",
        "    def addPattern(self, cat, *patterns):\n",
        "        self.matcher.add(cat, None, *patterns)\n",
        "        return self\n",
        "\n",
        "    # Returns a dictionary of matched pattern labels & text\n",
        "    def process(self, text):\n",
        "        doc = self.nlp(text)\n",
        "        cats = {}\n",
        "        for match_id, start, end in self.matcher(doc):\n",
        "            string_id = self.nlp.vocab.strings[match_id]\n",
        "            span = doc[start:end]\n",
        "            if string_id in cats:\n",
        "                cats[string_id].append(span.text)\n",
        "            else:\n",
        "                cats[string_id] = [span.text]\n",
        "        return cats\n",
        "\n",
        "# ------------ Let us define some patterns ---------\n",
        "\n",
        "# Does the patient exhibit symptoms of common cold?\n",
        "cold_patterns = [\n",
        "    [{\"LEMMA\" : \"sneeze\"}],\n",
        "    [{\"LEMMA\" : \"cough\"}],\n",
        "    [{\"LOWER\" : \"rhinitis\"}],\n",
        "    [{\"LOWER\" : \"runny\"}, {\"LOWER\": \"nose\"}]\n",
        "]\n",
        "\n",
        "# Patterns suggestive of diarrhea\n",
        "diarrhea_patterns = [\n",
        "    [{\"LOWER\" : \"diarrhoea\"}],\n",
        "    [{\"LOWER\" : \"diarrhea\"}],\n",
        "    [{\"LOWER\" : \"loose\"}, {\"LEMMA\": \"stool\"}],\n",
        "    [{\"LOWER\" : \"loose\"}, {\"LEMMA\": \"motion\"}]\n",
        "]\n",
        "\n",
        "# Pattern to identify the patient's name\n",
        "name_patterns = [\n",
        "    [{\"TAG\" : \"NNP\"}, {\"TAG\" : \"NNP\", \"OP\" : \"?\"}]\n",
        "]\n",
        "\n",
        "# Pattern to identify the age of the patient\n",
        "age_patterns = [\n",
        "    [{\"LEMMA\" : \"age\"}, {\"LIKE_NUM\" : True}],\n",
        "    [{\"LIKE_NUM\": True}, {\"LEMMA\": \"year\"}, {\"LEMMA\": \"old\"} ]\n",
        "]\n",
        "\n",
        "# Is the patient male or female?\n",
        "gender_patterns = [\n",
        "    [{\"LOWER\" : \"male\"}],\n",
        "    [{\"LOWER\" : \"female\"}],\n",
        "    [{\"LOWER\" : \"lady\"}],\n",
        "    [{\"LOWER\": \"boy\"}],\n",
        "    [{\"LOWER\": \"girl\"}]\n",
        "]\n",
        "\n",
        "# Simple cases!\n",
        "case1 = u\"Mary, a 50 year old lady is sneezing continuously. There is runny nose as well.\"\n",
        "\n",
        "case2 = \"Peter is a young boy, aged 10 years. He is suffering from rhinitis for the past 2 days. He has occasional loose motion.\"\n",
        "\n",
        "# Load the Model\n",
        "nlp = spacy.load('en_core_web_sm')\n",
        "\n",
        "# Create the object\n",
        "homeo = HomeoProcessor(nlp)\n",
        "\n",
        "# Bind the different patterns\n",
        "homeo.addPattern(\"Cold\", *cold_patterns)\n",
        "homeo.addPattern(\"Diarrhea\", *diarrhea_patterns)\n",
        "homeo.addPattern(\"Name\", *name_patterns)\n",
        "homeo.addPattern(\"Age\", *age_patterns)\n",
        "homeo.addPattern(\"Gender\", *gender_patterns)\n",
        "\n",
        "# Process Case-1\n",
        "for category, matching_text in homeo.process(case1).items():\n",
        "    print(category, matching_text)\n",
        "print('********************')\n",
        "\n",
        "# Process Case-2\n",
        "for category, matching_text in homeo.process(case2).items():\n",
        "    print(category, matching_text)"
      ],
      "execution_count": null,
      "outputs": [
        {
          "output_type": "stream",
          "text": [
            "Name ['Mary']\n",
            "Age ['50 year old']\n",
            "Gender ['lady']\n",
            "Cold ['sneezing', 'runny nose']\n",
            "********************\n",
            "Name ['Peter']\n",
            "Gender ['boy']\n",
            "Age ['aged 10']\n",
            "Cold ['rhinitis']\n",
            "Diarrhea ['loose motion']\n"
          ],
          "name": "stdout"
        }
      ]
    }
  ]
}