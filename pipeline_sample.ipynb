{
  "nbformat": 4,
  "nbformat_minor": 0,
  "metadata": {
    "colab": {
      "name": "36_pipeline_sample.ipynb",
      "provenance": [],
      "collapsed_sections": [],
      "include_colab_link": true
    },
    "kernelspec": {
      "name": "python3",
      "display_name": "Python 3"
    }
  },
  "cells": [
    {
      "cell_type": "markdown",
      "metadata": {
        "id": "view-in-github",
        "colab_type": "text"
      },
      "source": [
        "<a href=\"https://colab.research.google.com/github/kullawattana/thesis_2020_spacy_colab/blob/master/36_pipeline_sample.ipynb\" target=\"_parent\"><img src=\"https://colab.research.google.com/assets/colab-badge.svg\" alt=\"Open In Colab\"/></a>"
      ]
    },
    {
      "cell_type": "code",
      "metadata": {
        "id": "4ErZed2UviHK"
      },
      "source": [
        "# Import the English language class\n",
        "import spacy\n",
        "from spacy.lang.en import English \n",
        "# Create the nlpframework object\n",
        "nlp = English()\n",
        "\n",
        "#-------------Anatomy of a component (1)-------------\n",
        "def custom_component(doc):\n",
        "    # Do something to the doc here return doc\n",
        "    nlp.add_pipe(custom_component)\n",
        "\n",
        "#-------------Anatomy of a component (2)-------------\n",
        "def custom_component(doc):\n",
        "    # Do something to the doc here return doc\n",
        "    nlp.add_pipe(custom_component)"
      ],
      "execution_count": null,
      "outputs": []
    },
    {
      "cell_type": "code",
      "metadata": {
        "id": "hlv6124Jvuya",
        "outputId": "d4ce948b-a75b-4d7f-8377-cde3be5dd84d",
        "colab": {
          "base_uri": "https://localhost:8080/"
        }
      },
      "source": [
        "#--------------Example: a simple component (1)--------------\n",
        "# Create the nlpframework object\n",
        "nlp = spacy.load('en_core_web_sm') \n",
        "# Define a custom component\n",
        "def custom_component(doc):\n",
        "    # Print the doc's length\n",
        "    print('Doc length:' + len(doc))\n",
        "    return doc\n",
        "\n",
        "# Add the component first in the pipeline\n",
        "nlp.add_pipe(custom_component, first=True) \n",
        "\n",
        "# Print the pipeline component names\n",
        "print('Pipeline:', nlp.pipe_names)"
      ],
      "execution_count": null,
      "outputs": [
        {
          "output_type": "stream",
          "text": [
            "Pipeline: ['custom_component', 'tagger', 'parser', 'ner']\n"
          ],
          "name": "stdout"
        }
      ]
    },
    {
      "cell_type": "code",
      "metadata": {
        "id": "LQYjtQB4vz5-",
        "outputId": "9f5662f5-40bf-47a1-b66d-68a821efd255",
        "colab": {
          "base_uri": "https://localhost:8080/"
        }
      },
      "source": [
        "#------------Example: a simple component (2)---------------\n",
        "# Create the nlpframework object\n",
        "nlp = spacy.load('en_core_web_sm') \n",
        "# Define a custom component\n",
        "def custom_component(doc):\n",
        "    # Print the doc's length\n",
        "    print('Doc length:' + str(len(doc))) \n",
        "    # Return the doc object\n",
        "    return doc\n",
        "\n",
        "# Add the component first in the pipeline\n",
        "nlp.add_pipe(custom_component, first=True) \n",
        "# Process a text\n",
        "doc = nlp(\"Hello world!\")"
      ],
      "execution_count": null,
      "outputs": [
        {
          "output_type": "stream",
          "text": [
            "Doc length:3\n"
          ],
          "name": "stdout"
        }
      ]
    },
    {
      "cell_type": "code",
      "metadata": {
        "id": "WwlxzvRZv6nU"
      },
      "source": [
        "#-----------------Setting custom attributes---------------------\n",
        "doc._.title = \"My document\" \n",
        "#token._.is_color = True \n",
        "#span._.has_color = False\n",
        "\n",
        "# Import global classes\n",
        "from spacy.tokens import Doc, Token, Span\n",
        "# Set extensions on the Doc, Token and Span\n",
        "Doc.set_extension('title', default=None, force=True) \n",
        "Token.set_extension('is_color', default=False, force=True) \n",
        "Span.set_extension('has_color', default=False, force=True)"
      ],
      "execution_count": null,
      "outputs": []
    },
    {
      "cell_type": "code",
      "metadata": {
        "id": "DiDVTvluv-qD",
        "outputId": "2a96e033-1be1-483a-acf9-df9da50f4266",
        "colab": {
          "base_uri": "https://localhost:8080/"
        }
      },
      "source": [
        "#---------------Attribute extensions-------------------\n",
        "from spacy.tokens import Token\n",
        "\n",
        "# Set extension on the Token with default value\n",
        "#Token.set_extension('is_color', default=False)\n",
        "doc = nlp(\"The sky is blue.\")\n",
        "\n",
        "# Overwrite extension attribute value\n",
        "doc[3]._.is_color = True"
      ],
      "execution_count": null,
      "outputs": [
        {
          "output_type": "stream",
          "text": [
            "Doc length:5\n"
          ],
          "name": "stdout"
        }
      ]
    },
    {
      "cell_type": "code",
      "metadata": {
        "id": "y1sJ4FVowCTk",
        "outputId": "2e08b3c0-3587-408d-9487-3ceecaadfd90",
        "colab": {
          "base_uri": "https://localhost:8080/"
        }
      },
      "source": [
        "#---------------Property extensions (1)-----------------\n",
        "from spacy.tokens import Token\n",
        "\n",
        "# Define getter function\n",
        "def get_is_color(token):\n",
        "    colors = ['red', 'yellow', 'blue'] \n",
        "    return token.text in colors\n",
        "\n",
        "# Set extension on the Token with getter\n",
        "Token.set_extension('is_color', getter=get_is_color, force=True) \n",
        "doc = nlp(\"The sky is blue.\")\n",
        "print(doc[3]._.is_color, '-', doc[3].text)"
      ],
      "execution_count": null,
      "outputs": [
        {
          "output_type": "stream",
          "text": [
            "Doc length:5\n",
            "True - blue\n"
          ],
          "name": "stdout"
        }
      ]
    },
    {
      "cell_type": "code",
      "metadata": {
        "id": "nCeO_gYTwFbc",
        "outputId": "e9645d8b-cad7-488d-f0f8-6582842a0bfa",
        "colab": {
          "base_uri": "https://localhost:8080/"
        }
      },
      "source": [
        "#---------------Property extensions (2)-----------------\n",
        "from spacy.tokens import Span\n",
        "# Define getter function\n",
        "def get_has_color(span):\n",
        "    colors = ['red', 'yellow', 'blue']\n",
        "    return any(token.text in colors for token in span)\n",
        "\n",
        "# Set extension on the Span with getter\n",
        "Span.set_extension('has_color', getter=get_has_color, force=True)\n",
        "doc = nlp(\"The sky is blue.\") \n",
        "print(doc[1:4]._.has_color, '-', doc[1:4].text) \n",
        "print(doc[0:2]._.has_color, '-', doc[0:2].text)"
      ],
      "execution_count": null,
      "outputs": [
        {
          "output_type": "stream",
          "text": [
            "Doc length:5\n",
            "True - sky is blue\n",
            "False - The sky\n"
          ],
          "name": "stdout"
        }
      ]
    },
    {
      "cell_type": "code",
      "metadata": {
        "id": "F_4n6tRlwINZ",
        "outputId": "f6491997-bc3b-4dcd-e738-6a48c73ef190",
        "colab": {
          "base_uri": "https://localhost:8080/"
        }
      },
      "source": [
        "#---------------------Method extensions-------------------\n",
        "from spacy.tokens import Doc\n",
        "# Define method with arguments\n",
        "def has_token(doc, token_text):\n",
        "    in_doc = token_text in [token.text for token in doc]\n",
        "\n",
        "# Set extension on the Doc with method\n",
        "Doc.set_extension('has_token', method=has_token, force=True)\n",
        "doc = nlp(\"The sky is blue.\") \n",
        "print(doc._.has_token('blue'), '- blue') \n",
        "print(doc._.has_token('cloud'), '- cloud')"
      ],
      "execution_count": null,
      "outputs": [
        {
          "output_type": "stream",
          "text": [
            "Doc length:5\n",
            "None - blue\n",
            "None - cloud\n"
          ],
          "name": "stdout"
        }
      ]
    },
    {
      "cell_type": "code",
      "metadata": {
        "id": "SscCFzGYwLwo",
        "outputId": "7aea5fdb-db8c-42a8-b272-a4f621a43f68",
        "colab": {
          "base_uri": "https://localhost:8080/"
        }
      },
      "source": [
        "#---------------Passing in context (1)-----------------\n",
        "data = [\n",
        "('This is a text', {'id': 1, 'page_number': 15}), ('And another text', {'id': 2, 'page_number': 16}),\n",
        "]\n",
        "for doc, context in nlp.pipe(data, as_tuples=True): \n",
        "    print(doc.text, context['page_number'])\n",
        "\n",
        "#---------------Passing in context (2)-----------------\n",
        "from spacy.tokens import Doc \n",
        "Doc.set_extension('id', default=None, force=True)\n",
        "Doc.set_extension('page_number', default=None, force=True)\n",
        "\n",
        "data = [\n",
        "('This is a text', {'id': 1, 'page_number': 15}), ('And another text', {'id': 2, 'page_number': 16}),\n",
        "]\n",
        "\n",
        "for doc, context in nlp.pipe(data, as_tuples=True): \n",
        "    doc._.id = context['id']\n",
        "    doc._.page_number = context['page_number']"
      ],
      "execution_count": null,
      "outputs": [
        {
          "output_type": "stream",
          "text": [
            "Doc length:4\n",
            "Doc length:3\n",
            "This is a text 15\n",
            "And another text 16\n",
            "Doc length:4\n",
            "Doc length:3\n"
          ],
          "name": "stdout"
        }
      ]
    },
    {
      "cell_type": "code",
      "metadata": {
        "id": "EEHQ8KHPwRKV",
        "outputId": "c29b5e96-d103-43a9-ac5f-3af02861cc55",
        "colab": {
          "base_uri": "https://localhost:8080/"
        }
      },
      "source": [
        "#-------------------Using only the tokenizer (2)---------------------------\n",
        "doc = nlp(\"Hello world\")                    #BAD\n",
        "doc = nlp.make_doc(\"Hello world!\")          #GOOD"
      ],
      "execution_count": null,
      "outputs": [
        {
          "output_type": "stream",
          "text": [
            "Doc length:2\n"
          ],
          "name": "stdout"
        }
      ]
    },
    {
      "cell_type": "code",
      "metadata": {
        "id": "q0dMIaT6wTv_",
        "outputId": "b4e9f656-7358-461d-d9f8-f5316ed25b53",
        "colab": {
          "base_uri": "https://localhost:8080/"
        }
      },
      "source": [
        "#-------------------Disabling pipeline components--------------------------\n",
        "# Disable tagger and parser\n",
        "with nlp.disable_pipes('tagger', 'parser'):\n",
        "# Process the text and print the entities \n",
        "    text = \"This is a book\"\n",
        "    doc = nlp(text)\n",
        "    print(doc.ents)"
      ],
      "execution_count": null,
      "outputs": [
        {
          "output_type": "stream",
          "text": [
            "Doc length:4\n",
            "()\n"
          ],
          "name": "stdout"
        }
      ]
    }
  ]
}