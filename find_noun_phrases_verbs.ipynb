{
  "nbformat": 4,
  "nbformat_minor": 0,
  "metadata": {
    "colab": {
      "name": "9_find_noun_phrases_verbs.ipynb",
      "provenance": [],
      "collapsed_sections": [],
      "include_colab_link": true
    },
    "kernelspec": {
      "name": "python3",
      "display_name": "Python 3"
    }
  },
  "cells": [
    {
      "cell_type": "markdown",
      "metadata": {
        "id": "view-in-github",
        "colab_type": "text"
      },
      "source": [
        "<a href=\"https://colab.research.google.com/github/kullawattana/thesis_2020_spacy_colab/blob/master/9_find_noun_phrases_verbs.ipynb\" target=\"_parent\"><img src=\"https://colab.research.google.com/assets/colab-badge.svg\" alt=\"Open In Colab\"/></a>"
      ]
    },
    {
      "cell_type": "code",
      "metadata": {
        "id": "aOeLGKKE2MXi",
        "outputId": "dc08a045-5d67-47c7-e227-f29cca4cce73",
        "colab": {
          "base_uri": "https://localhost:8080/"
        }
      },
      "source": [
        "import spacy\n",
        "from spacy.symbols import nsubj, VERB\n",
        "\n",
        "def findSubjectWithAncestor(text):\n",
        "    nlp = spacy.load(\"en_core_web_sm\")\n",
        "    doc = nlp(text)\n",
        "    root = [token for token in doc if token.head == token][0]\n",
        "    subject = list(root.lefts)[0]\n",
        "    for descendant in subject.subtree:\n",
        "        assert subject is descendant or subject.is_ancestor(descendant)\n",
        "        print(descendant.text, descendant.dep_, descendant.n_lefts,\n",
        "              descendant.n_rights,\n",
        "              [ancestor.text for ancestor in descendant.ancestors])\n",
        "\n",
        "def findSubjectVerbsWithChildren(text):\n",
        "    nlp = spacy.load(\"en_core_web_sm\")\n",
        "    doc = nlp(text)\n",
        "\n",
        "    verbs = []\n",
        "    for possible_verb in doc:\n",
        "        if possible_verb.pos == VERB:\n",
        "            for possible_subject in possible_verb.children:\n",
        "                if possible_subject.dep == nsubj:\n",
        "                    verbs.append(possible_verb)\n",
        "                    break\n",
        "    print(verbs)\n",
        "\n",
        "def findNounPhrasesVerbs(text):\n",
        "    nlp = spacy.load(\"en_core_web_sm\")\n",
        "    doc = nlp(text)\n",
        "\n",
        "    # Analyze syntax\n",
        "    print(\"Noun phrases:\", [chunk.text for chunk in doc.noun_chunks])\n",
        "    print(\"Verbs:\", [token.lemma_ for token in doc if token.pos_ == \"VERB\"])\n",
        "\n",
        "    # Find named entities, phrases and concepts\n",
        "    for entity in doc.ents:\n",
        "        print(entity.text, entity.label_)\n",
        "\n",
        "if __name__ == \"__main__\":\n",
        "    text = \"This is a book.\"\n",
        "    findNounPhrasesVerbs(text)\n",
        "    findSubjectWithAncestor(text)"
      ],
      "execution_count": null,
      "outputs": [
        {
          "output_type": "stream",
          "text": [
            "Noun phrases: ['a book']\n",
            "Verbs: []\n",
            "This nsubj 0 0 ['is']\n"
          ],
          "name": "stdout"
        }
      ]
    }
  ]
}