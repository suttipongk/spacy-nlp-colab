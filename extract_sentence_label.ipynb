{
  "cells": [
    {
      "cell_type": "markdown",
      "metadata": {
        "colab_type": "text",
        "id": "view-in-github"
      },
      "source": [
        "<a href=\"https://colab.research.google.com/github/kullawattana/thesis_2020_spacy_colab/blob/master/7_extract_sentence_label.ipynb\" target=\"_parent\"><img src=\"https://colab.research.google.com/assets/colab-badge.svg\" alt=\"Open In Colab\"/></a>"
      ]
    },
    {
      "cell_type": "code",
      "execution_count": null,
      "metadata": {
        "colab": {
          "base_uri": "https://localhost:8080/",
          "height": 232
        },
        "id": "fK-gdsllzfQW",
        "outputId": "94b198ed-e5cb-483d-a3fd-4a48b7059e2c",
        "vscode": {
          "languageId": "python"
        }
      },
      "outputs": [],
      "source": [
        "import spacy\n",
        "nlp = spacy.load('en_core_web_sm')\n",
        "\n",
        "def split_on_breaks(doc):\n",
        "    start = 0\n",
        "    seen_break = False\n",
        "    for word in doc:\n",
        "        if seen_break:\n",
        "            yield doc[start:word.i-1]\n",
        "            start = word.i\n",
        "            seen_break = False\n",
        "        elif word.text == '@SentBoundary@':\n",
        "            seen_break = True\n",
        "    if start < len(doc):\n",
        "        yield doc[start:len(doc)]\n",
        "\n",
        "sbd = SentenceSegmenter(nlp.vocab, strategy=split_on_breaks)\n",
        "nlp.add_pipe(sbd, first=True)\n",
        "\n",
        "def get_sentences(text):\n",
        "    doc = nlp(text)\n",
        "    return (list(doc.sents)) # convert to string if required.\n",
        "\n",
        "# Ex1\n",
        "get_sentences(\"Bob meets Alice. @SentBoundary@ They play together.\")\n",
        "# => [\"Bob meets Alice.\", \"They play together.\"]  # two sentences\n",
        "\n",
        "# Ex2\n",
        "get_sentences(\"Bob meets Alice. They play together.\")\n",
        "# => [\"Bob meets Alice. They play together.\"]  # ONE sentence\n",
        "\n",
        "# Ex3\n",
        "get_sentences(\"Bob meets Alice, @SentBoundary@ they play together.\")\n",
        "# => [\"Bob meets Alice,\", \"they play together.\"] # two sentences"
      ]
    }
  ],
  "metadata": {
    "colab": {
      "collapsed_sections": [],
      "include_colab_link": true,
      "name": "7_extract_sentence_label.ipynb",
      "provenance": []
    },
    "kernelspec": {
      "display_name": "Python 3",
      "name": "python3"
    }
  },
  "nbformat": 4,
  "nbformat_minor": 0
}
