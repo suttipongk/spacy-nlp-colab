{
  "nbformat": 4,
  "nbformat_minor": 0,
  "metadata": {
    "colab": {
      "name": "17_find_token_left_right.ipynb",
      "provenance": [],
      "collapsed_sections": [],
      "include_colab_link": true
    },
    "kernelspec": {
      "name": "python3",
      "display_name": "Python 3"
    }
  },
  "cells": [
    {
      "cell_type": "markdown",
      "metadata": {
        "id": "view-in-github",
        "colab_type": "text"
      },
      "source": [
        "<a href=\"https://colab.research.google.com/github/kullawattana/thesis_2020_spacy_colab/blob/master/17_find_token_left_right.ipynb\" target=\"_parent\"><img src=\"https://colab.research.google.com/assets/colab-badge.svg\" alt=\"Open In Colab\"/></a>"
      ]
    },
    {
      "cell_type": "code",
      "metadata": {
        "id": "BTverR7BEeVJ",
        "outputId": "1e282ee5-88b2-4c6d-e5c0-0869e4eba4e8",
        "colab": {
          "base_uri": "https://localhost:8080/"
        }
      },
      "source": [
        "import os, sys\n",
        "import spacy\n",
        "import pandas as pd\n",
        "\n",
        "def findToken(text):\n",
        "    nlp = spacy.load(\"en_core_web_sm\")\n",
        "    doc = nlp(text)\n",
        "\n",
        "    parsed_text = {'token_text':[], 'token_dep_':[] ,'token_head_text':[], 'token_head_pos_':[], 'token_lefts':[], 'token_rights':[]}\n",
        "\n",
        "    for token in doc:\n",
        "        parsed_text['token_text'].append(token.text)\n",
        "        parsed_text['token_dep_'].append(token.dep_)\n",
        "        parsed_text['token_head_text'].append(token.head.text)\n",
        "        parsed_text['token_head_pos_'].append(token.head.pos_)\n",
        "        parsed_text['token_lefts'].append([token.text for token in token.lefts])\n",
        "        parsed_text['token_rights'].append([token.text for token in token.rights])\n",
        "    pd.DataFrame(parsed_text)\n",
        "\n",
        "    for token in doc:\n",
        "        print ((token.text, token.dep_, token.head.text, token.head.pos_, [token.text for token in token.lefts], [token.text for token in token.rights]))\n",
        "\n",
        "if __name__ == \"__main__\":\n",
        "    text = \"This is a book.\"\n",
        "    findToken(text)"
      ],
      "execution_count": null,
      "outputs": [
        {
          "output_type": "stream",
          "text": [
            "('This', 'nsubj', 'is', 'AUX', [], [])\n",
            "('is', 'ROOT', 'is', 'AUX', ['This'], ['book', '.'])\n",
            "('a', 'det', 'book', 'NOUN', [], [])\n",
            "('book', 'attr', 'is', 'AUX', ['a'], [])\n",
            "('.', 'punct', 'is', 'AUX', [], [])\n"
          ],
          "name": "stdout"
        }
      ]
    }
  ]
}